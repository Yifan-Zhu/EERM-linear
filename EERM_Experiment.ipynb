{
 "cells": [
  {
   "cell_type": "code",
   "execution_count": 350,
   "id": "d7cbd4f2",
   "metadata": {},
   "outputs": [],
   "source": [
    "import numpy as np\n",
    "import pandas as pd\n",
    "import matplotlib.pyplot as plt"
   ]
  },
  {
   "cell_type": "markdown",
   "id": "05b18d7c",
   "metadata": {},
   "source": [
    "# 1 Dataset"
   ]
  },
  {
   "cell_type": "code",
   "execution_count": 351,
   "id": "41655c32",
   "metadata": {},
   "outputs": [],
   "source": [
    "from sklearn.preprocessing import StandardScaler\n",
    "scaler = StandardScaler()"
   ]
  },
  {
   "cell_type": "code",
   "execution_count": 352,
   "id": "c3469ca9",
   "metadata": {},
   "outputs": [
    {
     "name": "stdout",
     "output_type": "stream",
     "text": [
      "(20640, 10)\n"
     ]
    }
   ],
   "source": [
    "data = pd.read_csv('housing.csv')\n",
    "print(data.shape)\n",
    "new_val = pd.get_dummies(data.ocean_proximity)\n",
    "data[new_val.columns] = new_val\n",
    "data.drop(['ocean_proximity'],axis=1,inplace=True)"
   ]
  },
  {
   "cell_type": "code",
   "execution_count": 353,
   "id": "a161b387",
   "metadata": {},
   "outputs": [
    {
     "data": {
      "text/html": [
       "<div>\n",
       "<style scoped>\n",
       "    .dataframe tbody tr th:only-of-type {\n",
       "        vertical-align: middle;\n",
       "    }\n",
       "\n",
       "    .dataframe tbody tr th {\n",
       "        vertical-align: top;\n",
       "    }\n",
       "\n",
       "    .dataframe thead th {\n",
       "        text-align: right;\n",
       "    }\n",
       "</style>\n",
       "<table border=\"1\" class=\"dataframe\">\n",
       "  <thead>\n",
       "    <tr style=\"text-align: right;\">\n",
       "      <th></th>\n",
       "      <th>longitude</th>\n",
       "      <th>latitude</th>\n",
       "      <th>housing_median_age</th>\n",
       "      <th>total_rooms</th>\n",
       "      <th>total_bedrooms</th>\n",
       "      <th>population</th>\n",
       "      <th>households</th>\n",
       "      <th>median_income</th>\n",
       "      <th>median_house_value</th>\n",
       "      <th>&lt;1H OCEAN</th>\n",
       "      <th>INLAND</th>\n",
       "      <th>ISLAND</th>\n",
       "      <th>NEAR BAY</th>\n",
       "      <th>NEAR OCEAN</th>\n",
       "    </tr>\n",
       "  </thead>\n",
       "  <tbody>\n",
       "    <tr>\n",
       "      <th>count</th>\n",
       "      <td>20433.000000</td>\n",
       "      <td>20433.000000</td>\n",
       "      <td>20433.000000</td>\n",
       "      <td>20433.000000</td>\n",
       "      <td>20433.000000</td>\n",
       "      <td>20433.000000</td>\n",
       "      <td>20433.000000</td>\n",
       "      <td>20433.000000</td>\n",
       "      <td>20433.000000</td>\n",
       "      <td>20433.000000</td>\n",
       "      <td>20433.000000</td>\n",
       "      <td>20433.000000</td>\n",
       "      <td>20433.000000</td>\n",
       "      <td>20433.000000</td>\n",
       "    </tr>\n",
       "    <tr>\n",
       "      <th>mean</th>\n",
       "      <td>-119.570689</td>\n",
       "      <td>35.633221</td>\n",
       "      <td>28.633094</td>\n",
       "      <td>2636.504233</td>\n",
       "      <td>537.870553</td>\n",
       "      <td>1424.946949</td>\n",
       "      <td>499.433465</td>\n",
       "      <td>38711.616013</td>\n",
       "      <td>206864.413155</td>\n",
       "      <td>0.442128</td>\n",
       "      <td>0.317917</td>\n",
       "      <td>0.000245</td>\n",
       "      <td>0.111095</td>\n",
       "      <td>0.128615</td>\n",
       "    </tr>\n",
       "    <tr>\n",
       "      <th>std</th>\n",
       "      <td>2.003578</td>\n",
       "      <td>2.136348</td>\n",
       "      <td>12.591805</td>\n",
       "      <td>2185.269567</td>\n",
       "      <td>421.385070</td>\n",
       "      <td>1133.208490</td>\n",
       "      <td>382.299226</td>\n",
       "      <td>18992.912493</td>\n",
       "      <td>115435.667099</td>\n",
       "      <td>0.496652</td>\n",
       "      <td>0.465678</td>\n",
       "      <td>0.015641</td>\n",
       "      <td>0.314257</td>\n",
       "      <td>0.334782</td>\n",
       "    </tr>\n",
       "    <tr>\n",
       "      <th>min</th>\n",
       "      <td>-124.350000</td>\n",
       "      <td>32.540000</td>\n",
       "      <td>1.000000</td>\n",
       "      <td>2.000000</td>\n",
       "      <td>1.000000</td>\n",
       "      <td>3.000000</td>\n",
       "      <td>1.000000</td>\n",
       "      <td>4999.000000</td>\n",
       "      <td>14999.000000</td>\n",
       "      <td>0.000000</td>\n",
       "      <td>0.000000</td>\n",
       "      <td>0.000000</td>\n",
       "      <td>0.000000</td>\n",
       "      <td>0.000000</td>\n",
       "    </tr>\n",
       "    <tr>\n",
       "      <th>25%</th>\n",
       "      <td>-121.800000</td>\n",
       "      <td>33.930000</td>\n",
       "      <td>18.000000</td>\n",
       "      <td>1450.000000</td>\n",
       "      <td>296.000000</td>\n",
       "      <td>787.000000</td>\n",
       "      <td>280.000000</td>\n",
       "      <td>25637.000000</td>\n",
       "      <td>119500.000000</td>\n",
       "      <td>0.000000</td>\n",
       "      <td>0.000000</td>\n",
       "      <td>0.000000</td>\n",
       "      <td>0.000000</td>\n",
       "      <td>0.000000</td>\n",
       "    </tr>\n",
       "    <tr>\n",
       "      <th>50%</th>\n",
       "      <td>-118.490000</td>\n",
       "      <td>34.260000</td>\n",
       "      <td>29.000000</td>\n",
       "      <td>2127.000000</td>\n",
       "      <td>435.000000</td>\n",
       "      <td>1166.000000</td>\n",
       "      <td>409.000000</td>\n",
       "      <td>35365.000000</td>\n",
       "      <td>179700.000000</td>\n",
       "      <td>0.000000</td>\n",
       "      <td>0.000000</td>\n",
       "      <td>0.000000</td>\n",
       "      <td>0.000000</td>\n",
       "      <td>0.000000</td>\n",
       "    </tr>\n",
       "    <tr>\n",
       "      <th>75%</th>\n",
       "      <td>-118.010000</td>\n",
       "      <td>37.720000</td>\n",
       "      <td>37.000000</td>\n",
       "      <td>3143.000000</td>\n",
       "      <td>647.000000</td>\n",
       "      <td>1722.000000</td>\n",
       "      <td>604.000000</td>\n",
       "      <td>47440.000000</td>\n",
       "      <td>264700.000000</td>\n",
       "      <td>1.000000</td>\n",
       "      <td>1.000000</td>\n",
       "      <td>0.000000</td>\n",
       "      <td>0.000000</td>\n",
       "      <td>0.000000</td>\n",
       "    </tr>\n",
       "    <tr>\n",
       "      <th>max</th>\n",
       "      <td>-114.310000</td>\n",
       "      <td>41.950000</td>\n",
       "      <td>52.000000</td>\n",
       "      <td>39320.000000</td>\n",
       "      <td>6445.000000</td>\n",
       "      <td>35682.000000</td>\n",
       "      <td>6082.000000</td>\n",
       "      <td>150001.000000</td>\n",
       "      <td>500001.000000</td>\n",
       "      <td>1.000000</td>\n",
       "      <td>1.000000</td>\n",
       "      <td>1.000000</td>\n",
       "      <td>1.000000</td>\n",
       "      <td>1.000000</td>\n",
       "    </tr>\n",
       "  </tbody>\n",
       "</table>\n",
       "</div>"
      ],
      "text/plain": [
       "          longitude      latitude  housing_median_age   total_rooms  \\\n",
       "count  20433.000000  20433.000000        20433.000000  20433.000000   \n",
       "mean    -119.570689     35.633221           28.633094   2636.504233   \n",
       "std        2.003578      2.136348           12.591805   2185.269567   \n",
       "min     -124.350000     32.540000            1.000000      2.000000   \n",
       "25%     -121.800000     33.930000           18.000000   1450.000000   \n",
       "50%     -118.490000     34.260000           29.000000   2127.000000   \n",
       "75%     -118.010000     37.720000           37.000000   3143.000000   \n",
       "max     -114.310000     41.950000           52.000000  39320.000000   \n",
       "\n",
       "       total_bedrooms    population    households  median_income  \\\n",
       "count    20433.000000  20433.000000  20433.000000   20433.000000   \n",
       "mean       537.870553   1424.946949    499.433465   38711.616013   \n",
       "std        421.385070   1133.208490    382.299226   18992.912493   \n",
       "min          1.000000      3.000000      1.000000    4999.000000   \n",
       "25%        296.000000    787.000000    280.000000   25637.000000   \n",
       "50%        435.000000   1166.000000    409.000000   35365.000000   \n",
       "75%        647.000000   1722.000000    604.000000   47440.000000   \n",
       "max       6445.000000  35682.000000   6082.000000  150001.000000   \n",
       "\n",
       "       median_house_value     <1H OCEAN        INLAND        ISLAND  \\\n",
       "count        20433.000000  20433.000000  20433.000000  20433.000000   \n",
       "mean        206864.413155      0.442128      0.317917      0.000245   \n",
       "std         115435.667099      0.496652      0.465678      0.015641   \n",
       "min          14999.000000      0.000000      0.000000      0.000000   \n",
       "25%         119500.000000      0.000000      0.000000      0.000000   \n",
       "50%         179700.000000      0.000000      0.000000      0.000000   \n",
       "75%         264700.000000      1.000000      1.000000      0.000000   \n",
       "max         500001.000000      1.000000      1.000000      1.000000   \n",
       "\n",
       "           NEAR BAY    NEAR OCEAN  \n",
       "count  20433.000000  20433.000000  \n",
       "mean       0.111095      0.128615  \n",
       "std        0.314257      0.334782  \n",
       "min        0.000000      0.000000  \n",
       "25%        0.000000      0.000000  \n",
       "50%        0.000000      0.000000  \n",
       "75%        0.000000      0.000000  \n",
       "max        1.000000      1.000000  "
      ]
     },
     "execution_count": 353,
     "metadata": {},
     "output_type": "execute_result"
    }
   ],
   "source": [
    "data.dropna(subset=['total_bedrooms'],inplace=True)\n",
    "data.median_income = data.median_income * 10000\n",
    "data.describe()"
   ]
  },
  {
   "cell_type": "code",
   "execution_count": 354,
   "id": "4e4303a7",
   "metadata": {},
   "outputs": [],
   "source": [
    "scaler.fit(data)\n",
    "data = scaler.transform(data)\n",
    "data = pd.DataFrame(data,columns=['longitude','latitude','housing_median_age','total_rooms','total_bedrooms','population','households','median_income','median_house_value','<1H OCEAN','INLAND','ISLAND','NEAR BAY','NEAR OCEAN'])"
   ]
  },
  {
   "cell_type": "code",
   "execution_count": 355,
   "id": "20d563a8",
   "metadata": {},
   "outputs": [
    {
     "name": "stdout",
     "output_type": "stream",
     "text": [
      "[2.00352886e+00 2.13629539e+00 1.25914971e+01 2.18521609e+03\n",
      " 4.21374759e+02 1.13318076e+03 3.82289871e+02 1.89924477e+04\n",
      " 1.15432842e+05 4.96639531e-01 4.65667065e-01 1.56410459e-02\n",
      " 3.14249493e-01 3.34773856e-01]\n",
      "[-1.19570689e+02  3.56332213e+01  2.86330935e+01  2.63650423e+03\n",
      "  5.37870553e+02  1.42494695e+03  4.99433465e+02  3.87116160e+04\n",
      "  2.06864413e+05  4.42127930e-01  3.17917095e-01  2.44702197e-04\n",
      "  1.11094798e-01  1.28615475e-01]\n"
     ]
    }
   ],
   "source": [
    "print(np.sqrt(scaler.var_))\n",
    "print(scaler.mean_)"
   ]
  },
  {
   "cell_type": "code",
   "execution_count": 356,
   "id": "bd7becf7",
   "metadata": {},
   "outputs": [
    {
     "name": "stdout",
     "output_type": "stream",
     "text": [
      "<class 'pandas.core.frame.DataFrame'>\n",
      "RangeIndex: 20433 entries, 0 to 20432\n",
      "Data columns (total 14 columns):\n",
      " #   Column              Non-Null Count  Dtype  \n",
      "---  ------              --------------  -----  \n",
      " 0   longitude           20433 non-null  float64\n",
      " 1   latitude            20433 non-null  float64\n",
      " 2   housing_median_age  20433 non-null  float64\n",
      " 3   total_rooms         20433 non-null  float64\n",
      " 4   total_bedrooms      20433 non-null  float64\n",
      " 5   population          20433 non-null  float64\n",
      " 6   households          20433 non-null  float64\n",
      " 7   median_income       20433 non-null  float64\n",
      " 8   median_house_value  20433 non-null  float64\n",
      " 9   <1H OCEAN           20433 non-null  float64\n",
      " 10  INLAND              20433 non-null  float64\n",
      " 11  ISLAND              20433 non-null  float64\n",
      " 12  NEAR BAY            20433 non-null  float64\n",
      " 13  NEAR OCEAN          20433 non-null  float64\n",
      "dtypes: float64(14)\n",
      "memory usage: 2.2 MB\n"
     ]
    }
   ],
   "source": [
    "data.info()"
   ]
  },
  {
   "cell_type": "code",
   "execution_count": 357,
   "id": "bf91a452",
   "metadata": {},
   "outputs": [],
   "source": [
    "data.dropna(subset=['median_house_value'],inplace=True)"
   ]
  },
  {
   "cell_type": "code",
   "execution_count": 358,
   "id": "52ba8486",
   "metadata": {},
   "outputs": [
    {
     "data": {
      "text/plain": [
       "<matplotlib.axes._subplots.AxesSubplot at 0x1680848e0>"
      ]
     },
     "execution_count": 358,
     "metadata": {},
     "output_type": "execute_result"
    },
    {
     "data": {
      "image/png": "[encoded data removed]",
      "text/plain": [
       "<Figure size 1080x864 with 2 Axes>"
      ]
     },
     "metadata": {
      "needs_background": "light"
     },
     "output_type": "display_data"
    }
   ],
   "source": [
    "import seaborn as sns\n",
    "import matplotlib.pyplot as plt\n",
    "%matplotlib inline\n",
    "plt.figure(figsize=(15,12))\n",
    "f = data.corr() \n",
    "sns.heatmap(f, annot=True)"
   ]
  },
  {
   "cell_type": "code",
   "execution_count": 359,
   "id": "c3321649",
   "metadata": {},
   "outputs": [
    {
     "data": {
      "text/html": [
       "<div>\n",
       "<style scoped>\n",
       "    .dataframe tbody tr th:only-of-type {\n",
       "        vertical-align: middle;\n",
       "    }\n",
       "\n",
       "    .dataframe tbody tr th {\n",
       "        vertical-align: top;\n",
       "    }\n",
       "\n",
       "    .dataframe thead th {\n",
       "        text-align: right;\n",
       "    }\n",
       "</style>\n",
       "<table border=\"1\" class=\"dataframe\">\n",
       "  <thead>\n",
       "    <tr style=\"text-align: right;\">\n",
       "      <th></th>\n",
       "      <th>longitude</th>\n",
       "      <th>latitude</th>\n",
       "      <th>housing_median_age</th>\n",
       "      <th>total_rooms</th>\n",
       "      <th>total_bedrooms</th>\n",
       "      <th>population</th>\n",
       "      <th>households</th>\n",
       "      <th>median_income</th>\n",
       "      <th>&lt;1H OCEAN</th>\n",
       "      <th>INLAND</th>\n",
       "      <th>ISLAND</th>\n",
       "      <th>NEAR BAY</th>\n",
       "      <th>NEAR OCEAN</th>\n",
       "    </tr>\n",
       "  </thead>\n",
       "  <tbody>\n",
       "    <tr>\n",
       "      <th>0</th>\n",
       "      <td>-1.327314</td>\n",
       "      <td>1.051717</td>\n",
       "      <td>0.982163</td>\n",
       "      <td>-0.803813</td>\n",
       "      <td>-0.970325</td>\n",
       "      <td>-0.973320</td>\n",
       "      <td>-0.976833</td>\n",
       "      <td>2.345163</td>\n",
       "      <td>-0.890239</td>\n",
       "      <td>-0.682713</td>\n",
       "      <td>-0.015645</td>\n",
       "      <td>2.828661</td>\n",
       "      <td>-0.384186</td>\n",
       "    </tr>\n",
       "    <tr>\n",
       "      <th>1</th>\n",
       "      <td>-1.322323</td>\n",
       "      <td>1.042355</td>\n",
       "      <td>-0.606210</td>\n",
       "      <td>2.042130</td>\n",
       "      <td>1.348276</td>\n",
       "      <td>0.861339</td>\n",
       "      <td>1.670373</td>\n",
       "      <td>2.332632</td>\n",
       "      <td>-0.890239</td>\n",
       "      <td>-0.682713</td>\n",
       "      <td>-0.015645</td>\n",
       "      <td>2.828661</td>\n",
       "      <td>-0.384186</td>\n",
       "    </tr>\n",
       "    <tr>\n",
       "      <th>2</th>\n",
       "      <td>-1.332305</td>\n",
       "      <td>1.037674</td>\n",
       "      <td>1.855769</td>\n",
       "      <td>-0.535189</td>\n",
       "      <td>-0.825561</td>\n",
       "      <td>-0.819769</td>\n",
       "      <td>-0.843427</td>\n",
       "      <td>1.782939</td>\n",
       "      <td>-0.890239</td>\n",
       "      <td>-0.682713</td>\n",
       "      <td>-0.015645</td>\n",
       "      <td>2.828661</td>\n",
       "      <td>-0.384186</td>\n",
       "    </tr>\n",
       "    <tr>\n",
       "      <th>3</th>\n",
       "      <td>-1.337296</td>\n",
       "      <td>1.037674</td>\n",
       "      <td>1.855769</td>\n",
       "      <td>-0.623510</td>\n",
       "      <td>-0.718768</td>\n",
       "      <td>-0.765056</td>\n",
       "      <td>-0.733562</td>\n",
       "      <td>0.932970</td>\n",
       "      <td>-0.890239</td>\n",
       "      <td>-0.682713</td>\n",
       "      <td>-0.015645</td>\n",
       "      <td>2.828661</td>\n",
       "      <td>-0.384186</td>\n",
       "    </tr>\n",
       "    <tr>\n",
       "      <th>4</th>\n",
       "      <td>-1.337296</td>\n",
       "      <td>1.037674</td>\n",
       "      <td>1.855769</td>\n",
       "      <td>-0.461970</td>\n",
       "      <td>-0.611974</td>\n",
       "      <td>-0.758879</td>\n",
       "      <td>-0.628930</td>\n",
       "      <td>-0.013143</td>\n",
       "      <td>-0.890239</td>\n",
       "      <td>-0.682713</td>\n",
       "      <td>-0.015645</td>\n",
       "      <td>2.828661</td>\n",
       "      <td>-0.384186</td>\n",
       "    </tr>\n",
       "  </tbody>\n",
       "</table>\n",
       "</div>"
      ],
      "text/plain": [
       "   longitude  latitude  housing_median_age  total_rooms  total_bedrooms  \\\n",
       "0  -1.327314  1.051717            0.982163    -0.803813       -0.970325   \n",
       "1  -1.322323  1.042355           -0.606210     2.042130        1.348276   \n",
       "2  -1.332305  1.037674            1.855769    -0.535189       -0.825561   \n",
       "3  -1.337296  1.037674            1.855769    -0.623510       -0.718768   \n",
       "4  -1.337296  1.037674            1.855769    -0.461970       -0.611974   \n",
       "\n",
       "   population  households  median_income  <1H OCEAN    INLAND    ISLAND  \\\n",
       "0   -0.973320   -0.976833       2.345163  -0.890239 -0.682713 -0.015645   \n",
       "1    0.861339    1.670373       2.332632  -0.890239 -0.682713 -0.015645   \n",
       "2   -0.819769   -0.843427       1.782939  -0.890239 -0.682713 -0.015645   \n",
       "3   -0.765056   -0.733562       0.932970  -0.890239 -0.682713 -0.015645   \n",
       "4   -0.758879   -0.628930      -0.013143  -0.890239 -0.682713 -0.015645   \n",
       "\n",
       "   NEAR BAY  NEAR OCEAN  \n",
       "0  2.828661   -0.384186  \n",
       "1  2.828661   -0.384186  \n",
       "2  2.828661   -0.384186  \n",
       "3  2.828661   -0.384186  \n",
       "4  2.828661   -0.384186  "
      ]
     },
     "execution_count": 359,
     "metadata": {},
     "output_type": "execute_result"
    }
   ],
   "source": [
    "y = data['median_house_value']\n",
    "X = data.drop(['median_house_value'],axis=1)\n",
    "X.head()"
   ]
  },
  {
   "cell_type": "code",
   "execution_count": 360,
   "id": "97193f3c",
   "metadata": {},
   "outputs": [],
   "source": [
    "from sklearn.model_selection import train_test_split\n",
    "trainset,testset = train_test_split(data,test_size=0.3)"
   ]
  },
  {
   "cell_type": "code",
   "execution_count": 361,
   "id": "565b739f",
   "metadata": {},
   "outputs": [],
   "source": [
    "y_train = trainset['median_house_value']\n",
    "X_train = trainset.drop(['median_house_value'],axis=1)\n",
    "y_test = testset['median_house_value']\n",
    "X_test = testset.drop(['median_house_value'],axis=1)"
   ]
  },
  {
   "cell_type": "code",
   "execution_count": 362,
   "id": "b71b25a8",
   "metadata": {},
   "outputs": [
    {
     "name": "stdout",
     "output_type": "stream",
     "text": [
      "(14303, 13) (14303,)\n",
      "(6130, 13) (6130,)\n"
     ]
    }
   ],
   "source": [
    "print(X_train.shape,y_train.shape)\n",
    "print(X_test.shape,y_test.shape)"
   ]
  },
  {
   "cell_type": "code",
   "execution_count": 363,
   "id": "978e568a",
   "metadata": {},
   "outputs": [
    {
     "name": "stdout",
     "output_type": "stream",
     "text": [
      "parameters are: [-4.59343182e-01 -4.60389430e-01  1.14825128e-01 -1.41161458e-01\n",
      "  3.97718244e-01 -3.59859408e-01  1.46636236e-01  6.54403349e-01\n",
      "  1.59938516e+12  1.49964098e+12  5.03706515e+10  1.01201363e+12\n",
      "  1.07811059e+12]\n",
      "loss is: 0.3378777936201839\n",
      "score:  0.4613015790403582\n"
     ]
    }
   ],
   "source": [
    "from sklearn.linear_model import LinearRegression\n",
    "lr = LinearRegression()\n",
    "lr.fit(X_train,y_train)\n",
    "pred = lr.predict(X_test)\n",
    "mse = mean_squared_error(pred,y_test)\n",
    "score = r2_score(pred,y_test)\n",
    "lr_params = lr.coef_\n",
    "print(\"parameters are:\", params)\n",
    "print(\"loss is:\",mse)\n",
    "print(\"score: \",score)"
   ]
  },
  {
   "cell_type": "markdown",
   "id": "bbaf34e9",
   "metadata": {},
   "source": [
    "# 2 Ridge regression"
   ]
  },
  {
   "cell_type": "code",
   "execution_count": 364,
   "id": "28c27d02",
   "metadata": {},
   "outputs": [
    {
     "name": "stdout",
     "output_type": "stream",
     "text": [
      "parameters are: [-0.37398453 -0.37646627  0.12403561 -0.08848888  0.31583445 -0.34730755\n",
      "  0.16516007  0.63483262  0.06142864 -0.13049499  0.01593577  0.02866951\n",
      "  0.062731  ]\n",
      "loss is: 0.33876613668067196\n",
      "score:  0.4495219226437187\n"
     ]
    }
   ],
   "source": [
    "from sklearn.linear_model import Ridge\n",
    "from sklearn.metrics import mean_squared_error, r2_score\n",
    "ridge = Ridge(alpha=100)\n",
    "ridge.fit(X_train,y_train)\n",
    "pred = ridge.predict(X_test)\n",
    "ridge_params = ridge.coef_\n",
    "loss = mean_squared_error(pred,y_test)\n",
    "score = r2_score(pred,y_test)\n",
    "print(\"parameters are:\", ridge_params)\n",
    "print(\"loss is:\", loss)\n",
    "print(\"score: \",score)"
   ]
  },
  {
   "cell_type": "markdown",
   "id": "eab25a42",
   "metadata": {},
   "source": [
    "# 3 LASSO regression"
   ]
  },
  {
   "cell_type": "code",
   "execution_count": 365,
   "id": "4281cad1",
   "metadata": {},
   "outputs": [
    {
     "name": "stdout",
     "output_type": "stream",
     "text": [
      "parameters are: [-0.17893822 -0.1729051   0.12013623 -0.          0.23932914 -0.27785962\n",
      "  0.08879084  0.61644045  0.         -0.24667021  0.          0.\n",
      "  0.02472785]\n",
      "loss is: 0.34781772931115806\n",
      "score:  0.40819779172163007\n"
     ]
    }
   ],
   "source": [
    "from sklearn.linear_model import Lasso\n",
    "lasso = Lasso(alpha=0.01)\n",
    "lasso.fit(X_train,y_train)\n",
    "pred = lasso.predict(X_test)\n",
    "rmse = mean_squared_error(pred,y_test)\n",
    "score = r2_score(pred,y_test)\n",
    "lasso_params = lasso.coef_\n",
    "print(\"parameters are:\", lasso_params)\n",
    "print(\"loss is:\",rmse)\n",
    "print(\"score: \",score)"
   ]
  },
  {
   "cell_type": "markdown",
   "id": "0abed286",
   "metadata": {},
   "source": [
    "# 4 EERM"
   ]
  },
  {
   "cell_type": "code",
   "execution_count": 366,
   "id": "afcc24a9",
   "metadata": {},
   "outputs": [],
   "source": [
    "class EERM() :\n",
    "      \n",
    "    def __init__( self, learning_rate, iterations, Lambda, alpha, user_summary ) :\n",
    "          \n",
    "        self.learning_rate = learning_rate\n",
    "        self.iterations = iterations\n",
    "        self.Lambda = Lambda\n",
    "        self.alpha = alpha\n",
    "        self.user_summary = user_summary\n",
    "        self.mu = []\n",
    "        self.std = []\n",
    "          \n",
    "    # Function for model training\n",
    "    \n",
    "    def normalize(data):\n",
    "        for i in range(0,data.shape[1]-1):\n",
    "            data[:,i] = ((data[:,i] - np.mean(data[:,i]))/np.std(data[:, i]))\n",
    "            mu.append(np.mean(data[:,i]))\n",
    "            std.append(np.std(data[:, i]))\n",
    "              \n",
    "    def fit( self, X, Y ) :\n",
    "          \n",
    "        # no_of_training_examples, no_of_features \n",
    "        self.m, self.n = X.shape    \n",
    "        # weight initialization  \n",
    "        self.W = np.zeros( self.n )   \n",
    "        self.b = 0   \n",
    "        self.X = X  \n",
    "        self.Y = Y    \n",
    "        # gradient descent learning            \n",
    "        for i in range( self.iterations ) :         \n",
    "            self.update_weights()       \n",
    "        return self\n",
    "      \n",
    "    # Helper function to update weights in gradient descent\n",
    "      \n",
    "    def update_weights( self ) :\n",
    "             \n",
    "        Y_pred = self.predict( self.X )  \n",
    "        # calculate gradients     \n",
    "        dW = np.zeros( self.n )  \n",
    "        for j in range( self.n ) :\n",
    "            #print(j)\n",
    "            risk = -(2*(self.X.iloc[:,j]).dot(self.Y - Y_pred))\n",
    "            explainability = self.Lambda*(-(2*(self.X.iloc[:, j]).dot(self.alpha*self.user_summary - Y_pred)))\n",
    "            dW[j] = (risk+explainability)/self.m\n",
    "        db = - 2 * np.sum( self.Y - Y_pred ) / self.m   \n",
    "        # update weights\n",
    "        self.W = self.W - self.learning_rate * dW\n",
    "        self.b = self.b - self.learning_rate * db      \n",
    "        return self\n",
    "      \n",
    "    # Hypothetical function  h( x ) \n",
    "      \n",
    "    def predict( self, X ) :\n",
    "        return X.dot( self.W ) + self.b"
   ]
  },
  {
   "cell_type": "code",
   "execution_count": 367,
   "id": "5a63c03f",
   "metadata": {},
   "outputs": [],
   "source": [
    "new_data = X_train.drop(['longitude','total_bedrooms','population','households','ISLAND'],axis=1)\n",
    "new_lr = LinearRegression()\n",
    "new_lr.fit(new_data,y_train)\n",
    "u = new_lr.predict(new_data)\n",
    "#print(u.shape,y_train.shape)"
   ]
  },
  {
   "cell_type": "code",
   "execution_count": 368,
   "id": "ed559d18",
   "metadata": {},
   "outputs": [
    {
     "name": "stdout",
     "output_type": "stream",
     "text": [
      "parameters are: [-0.16658044 -0.16440398  0.12962296 -0.00486912  0.14031113 -0.18356022\n",
      "  0.10673382  0.62684828  0.07324504 -0.17838226  0.01858606  0.05439121\n",
      "  0.08754341]\n",
      "loss is: 0.35283733168529574\n",
      "score:  0.41328478745500996\n"
     ]
    }
   ],
   "source": [
    "eerm = EERM(learning_rate=0.01, iterations=1000, Lambda=1.0, alpha=1.0, user_summary=u)\n",
    "eerm.fit(X_train,y_train)\n",
    "pred = eerm.predict(X_test)\n",
    "#print(pred)\n",
    "rmse = mean_squared_error(pred,y_test)\n",
    "score = r2_score(pred,y_test)\n",
    "eerm_params = eerm.W\n",
    "print(\"parameters are:\", eerm_params)\n",
    "print(\"loss is:\",rmse)\n",
    "print(\"score: \",score)"
   ]
  },
  {
   "cell_type": "markdown",
   "id": "a112c5af",
   "metadata": {},
   "source": [
    "# 5 Comparison"
   ]
  },
  {
   "cell_type": "code",
   "execution_count": 369,
   "id": "d763e09d",
   "metadata": {},
   "outputs": [],
   "source": [
    "coef_eerm = pd.DataFrame(eerm_params.reshape(1,13),columns=['longitude','latitude','housing_median_age','total_rooms','total_bedrooms','population','households','median_income','<1H OCEAN','INLAND','ISLAND','NEAR BAY','NEAR OCEAN'])\n",
    "coef_lasso = pd.DataFrame(lasso_params.reshape(1,13),columns=['longitude','latitude','housing_median_age','total_rooms','total_bedrooms','population','households','median_income','<1H OCEAN','INLAND','ISLAND','NEAR BAY','NEAR OCEAN'])\n",
    "coef_ridge = pd.DataFrame(ridge_params.reshape(1,13),columns=['longitude','latitude','housing_median_age','total_rooms','total_bedrooms','population','households','median_income','<1H OCEAN','INLAND','ISLAND','NEAR BAY','NEAR OCEAN'])\n",
    "coef_lr = pd.DataFrame(lr_params.reshape(1,13),columns=['longitude','latitude','housing_median_age','total_rooms','total_bedrooms','population','households','median_income','<1H OCEAN','INLAND','ISLAND','NEAR BAY','NEAR OCEAN'])"
   ]
  },
  {
   "cell_type": "code",
   "execution_count": 370,
   "id": "9642d5f9",
   "metadata": {},
   "outputs": [
    {
     "data": {
      "text/html": [
       "<div>\n",
       "<style scoped>\n",
       "    .dataframe tbody tr th:only-of-type {\n",
       "        vertical-align: middle;\n",
       "    }\n",
       "\n",
       "    .dataframe tbody tr th {\n",
       "        vertical-align: top;\n",
       "    }\n",
       "\n",
       "    .dataframe thead th {\n",
       "        text-align: right;\n",
       "    }\n",
       "</style>\n",
       "<table border=\"1\" class=\"dataframe\">\n",
       "  <thead>\n",
       "    <tr style=\"text-align: right;\">\n",
       "      <th></th>\n",
       "      <th>longitude</th>\n",
       "      <th>latitude</th>\n",
       "      <th>housing_median_age</th>\n",
       "      <th>total_rooms</th>\n",
       "      <th>total_bedrooms</th>\n",
       "      <th>population</th>\n",
       "      <th>households</th>\n",
       "      <th>median_income</th>\n",
       "      <th>&lt;1H OCEAN</th>\n",
       "      <th>INLAND</th>\n",
       "      <th>ISLAND</th>\n",
       "      <th>NEAR BAY</th>\n",
       "      <th>NEAR OCEAN</th>\n",
       "    </tr>\n",
       "  </thead>\n",
       "  <tbody>\n",
       "    <tr>\n",
       "      <th>0</th>\n",
       "      <td>-0.461208</td>\n",
       "      <td>-0.466952</td>\n",
       "      <td>0.123403</td>\n",
       "      <td>-0.119168</td>\n",
       "      <td>0.38348</td>\n",
       "      <td>-0.35971</td>\n",
       "      <td>0.137899</td>\n",
       "      <td>0.643694</td>\n",
       "      <td>1.075934e+12</td>\n",
       "      <td>1.008835e+12</td>\n",
       "      <td>3.388522e+10</td>\n",
       "      <td>6.807993e+11</td>\n",
       "      <td>7.252639e+11</td>\n",
       "    </tr>\n",
       "  </tbody>\n",
       "</table>\n",
       "</div>"
      ],
      "text/plain": [
       "   longitude  latitude  housing_median_age  total_rooms  total_bedrooms  \\\n",
       "0  -0.461208 -0.466952            0.123403    -0.119168         0.38348   \n",
       "\n",
       "   population  households  median_income     <1H OCEAN        INLAND  \\\n",
       "0    -0.35971    0.137899       0.643694  1.075934e+12  1.008835e+12   \n",
       "\n",
       "         ISLAND      NEAR BAY    NEAR OCEAN  \n",
       "0  3.388522e+10  6.807993e+11  7.252639e+11  "
      ]
     },
     "execution_count": 370,
     "metadata": {},
     "output_type": "execute_result"
    }
   ],
   "source": [
    "coef_lr"
   ]
  },
  {
   "cell_type": "code",
   "execution_count": 371,
   "id": "3285c407",
   "metadata": {},
   "outputs": [
    {
     "data": {
      "text/html": [
       "<div>\n",
       "<style scoped>\n",
       "    .dataframe tbody tr th:only-of-type {\n",
       "        vertical-align: middle;\n",
       "    }\n",
       "\n",
       "    .dataframe tbody tr th {\n",
       "        vertical-align: top;\n",
       "    }\n",
       "\n",
       "    .dataframe thead th {\n",
       "        text-align: right;\n",
       "    }\n",
       "</style>\n",
       "<table border=\"1\" class=\"dataframe\">\n",
       "  <thead>\n",
       "    <tr style=\"text-align: right;\">\n",
       "      <th></th>\n",
       "      <th>longitude</th>\n",
       "      <th>latitude</th>\n",
       "      <th>housing_median_age</th>\n",
       "      <th>total_rooms</th>\n",
       "      <th>total_bedrooms</th>\n",
       "      <th>population</th>\n",
       "      <th>households</th>\n",
       "      <th>median_income</th>\n",
       "      <th>&lt;1H OCEAN</th>\n",
       "      <th>INLAND</th>\n",
       "      <th>ISLAND</th>\n",
       "      <th>NEAR BAY</th>\n",
       "      <th>NEAR OCEAN</th>\n",
       "    </tr>\n",
       "  </thead>\n",
       "  <tbody>\n",
       "    <tr>\n",
       "      <th>0</th>\n",
       "      <td>-0.373985</td>\n",
       "      <td>-0.376466</td>\n",
       "      <td>0.124036</td>\n",
       "      <td>-0.088489</td>\n",
       "      <td>0.315834</td>\n",
       "      <td>-0.347308</td>\n",
       "      <td>0.16516</td>\n",
       "      <td>0.634833</td>\n",
       "      <td>0.061429</td>\n",
       "      <td>-0.130495</td>\n",
       "      <td>0.015936</td>\n",
       "      <td>0.02867</td>\n",
       "      <td>0.062731</td>\n",
       "    </tr>\n",
       "  </tbody>\n",
       "</table>\n",
       "</div>"
      ],
      "text/plain": [
       "   longitude  latitude  housing_median_age  total_rooms  total_bedrooms  \\\n",
       "0  -0.373985 -0.376466            0.124036    -0.088489        0.315834   \n",
       "\n",
       "   population  households  median_income  <1H OCEAN    INLAND    ISLAND  \\\n",
       "0   -0.347308     0.16516       0.634833   0.061429 -0.130495  0.015936   \n",
       "\n",
       "   NEAR BAY  NEAR OCEAN  \n",
       "0   0.02867    0.062731  "
      ]
     },
     "execution_count": 371,
     "metadata": {},
     "output_type": "execute_result"
    }
   ],
   "source": [
    "coef_ridge"
   ]
  },
  {
   "cell_type": "code",
   "execution_count": 372,
   "id": "73b83a9a",
   "metadata": {},
   "outputs": [
    {
     "data": {
      "text/html": [
       "<div>\n",
       "<style scoped>\n",
       "    .dataframe tbody tr th:only-of-type {\n",
       "        vertical-align: middle;\n",
       "    }\n",
       "\n",
       "    .dataframe tbody tr th {\n",
       "        vertical-align: top;\n",
       "    }\n",
       "\n",
       "    .dataframe thead th {\n",
       "        text-align: right;\n",
       "    }\n",
       "</style>\n",
       "<table border=\"1\" class=\"dataframe\">\n",
       "  <thead>\n",
       "    <tr style=\"text-align: right;\">\n",
       "      <th></th>\n",
       "      <th>longitude</th>\n",
       "      <th>latitude</th>\n",
       "      <th>housing_median_age</th>\n",
       "      <th>total_rooms</th>\n",
       "      <th>total_bedrooms</th>\n",
       "      <th>population</th>\n",
       "      <th>households</th>\n",
       "      <th>median_income</th>\n",
       "      <th>&lt;1H OCEAN</th>\n",
       "      <th>INLAND</th>\n",
       "      <th>ISLAND</th>\n",
       "      <th>NEAR BAY</th>\n",
       "      <th>NEAR OCEAN</th>\n",
       "    </tr>\n",
       "  </thead>\n",
       "  <tbody>\n",
       "    <tr>\n",
       "      <th>0</th>\n",
       "      <td>-0.178938</td>\n",
       "      <td>-0.172905</td>\n",
       "      <td>0.120136</td>\n",
       "      <td>-0.0</td>\n",
       "      <td>0.239329</td>\n",
       "      <td>-0.27786</td>\n",
       "      <td>0.088791</td>\n",
       "      <td>0.61644</td>\n",
       "      <td>0.0</td>\n",
       "      <td>-0.24667</td>\n",
       "      <td>0.0</td>\n",
       "      <td>0.0</td>\n",
       "      <td>0.024728</td>\n",
       "    </tr>\n",
       "  </tbody>\n",
       "</table>\n",
       "</div>"
      ],
      "text/plain": [
       "   longitude  latitude  housing_median_age  total_rooms  total_bedrooms  \\\n",
       "0  -0.178938 -0.172905            0.120136         -0.0        0.239329   \n",
       "\n",
       "   population  households  median_income  <1H OCEAN   INLAND  ISLAND  \\\n",
       "0    -0.27786    0.088791        0.61644        0.0 -0.24667     0.0   \n",
       "\n",
       "   NEAR BAY  NEAR OCEAN  \n",
       "0       0.0    0.024728  "
      ]
     },
     "execution_count": 372,
     "metadata": {},
     "output_type": "execute_result"
    }
   ],
   "source": [
    "coef_lasso"
   ]
  },
  {
   "cell_type": "code",
   "execution_count": 373,
   "id": "5aa05110",
   "metadata": {},
   "outputs": [
    {
     "data": {
      "text/html": [
       "<div>\n",
       "<style scoped>\n",
       "    .dataframe tbody tr th:only-of-type {\n",
       "        vertical-align: middle;\n",
       "    }\n",
       "\n",
       "    .dataframe tbody tr th {\n",
       "        vertical-align: top;\n",
       "    }\n",
       "\n",
       "    .dataframe thead th {\n",
       "        text-align: right;\n",
       "    }\n",
       "</style>\n",
       "<table border=\"1\" class=\"dataframe\">\n",
       "  <thead>\n",
       "    <tr style=\"text-align: right;\">\n",
       "      <th></th>\n",
       "      <th>longitude</th>\n",
       "      <th>latitude</th>\n",
       "      <th>housing_median_age</th>\n",
       "      <th>total_rooms</th>\n",
       "      <th>total_bedrooms</th>\n",
       "      <th>population</th>\n",
       "      <th>households</th>\n",
       "      <th>median_income</th>\n",
       "      <th>&lt;1H OCEAN</th>\n",
       "      <th>INLAND</th>\n",
       "      <th>ISLAND</th>\n",
       "      <th>NEAR BAY</th>\n",
       "      <th>NEAR OCEAN</th>\n",
       "    </tr>\n",
       "  </thead>\n",
       "  <tbody>\n",
       "    <tr>\n",
       "      <th>0</th>\n",
       "      <td>-0.16658</td>\n",
       "      <td>-0.164404</td>\n",
       "      <td>0.129623</td>\n",
       "      <td>-0.004869</td>\n",
       "      <td>0.140311</td>\n",
       "      <td>-0.18356</td>\n",
       "      <td>0.106734</td>\n",
       "      <td>0.626848</td>\n",
       "      <td>0.073245</td>\n",
       "      <td>-0.178382</td>\n",
       "      <td>0.018586</td>\n",
       "      <td>0.054391</td>\n",
       "      <td>0.087543</td>\n",
       "    </tr>\n",
       "  </tbody>\n",
       "</table>\n",
       "</div>"
      ],
      "text/plain": [
       "   longitude  latitude  housing_median_age  total_rooms  total_bedrooms  \\\n",
       "0   -0.16658 -0.164404            0.129623    -0.004869        0.140311   \n",
       "\n",
       "   population  households  median_income  <1H OCEAN    INLAND    ISLAND  \\\n",
       "0    -0.18356    0.106734       0.626848   0.073245 -0.178382  0.018586   \n",
       "\n",
       "   NEAR BAY  NEAR OCEAN  \n",
       "0  0.054391    0.087543  "
      ]
     },
     "execution_count": 373,
     "metadata": {},
     "output_type": "execute_result"
    }
   ],
   "source": [
    "coef_eerm"
   ]
  },
  {
   "cell_type": "code",
   "execution_count": 374,
   "id": "99c0990f",
   "metadata": {},
   "outputs": [
    {
     "data": {
      "text/plain": [
       "longitude            -0.045398\n",
       "latitude             -0.144638\n",
       "housing_median_age    0.106432\n",
       "total_rooms           0.133294\n",
       "total_bedrooms        0.049686\n",
       "population           -0.025300\n",
       "households            0.064894\n",
       "median_income         0.688355\n",
       "median_house_value    1.000000\n",
       "<1H OCEAN             0.257614\n",
       "INLAND               -0.484787\n",
       "ISLAND                0.023525\n",
       "NEAR BAY              0.160526\n",
       "NEAR OCEAN            0.140378\n",
       "Name: median_house_value, dtype: float64"
      ]
     },
     "execution_count": 374,
     "metadata": {},
     "output_type": "execute_result"
    }
   ],
   "source": [
    "f.iloc[8]"
   ]
  },
  {
   "cell_type": "code",
   "execution_count": 375,
   "id": "6fd74f55",
   "metadata": {},
   "outputs": [
    {
     "data": {
      "text/plain": [
       "array([-0.4612083 , -0.46695248,  0.12340279, -0.11916755,  0.38347981,\n",
       "       -0.35971022,  0.13789928,  0.64369448])"
      ]
     },
     "execution_count": 375,
     "metadata": {},
     "output_type": "execute_result"
    }
   ],
   "source": [
    "lr_params[0:8]"
   ]
  },
  {
   "cell_type": "code",
   "execution_count": 376,
   "id": "454b2ace",
   "metadata": {},
   "outputs": [
    {
     "data": {
      "image/png": "[encoded data removed]",
      "text/plain": [
       "<Figure size 864x216 with 1 Axes>"
      ]
     },
     "metadata": {
      "needs_background": "light"
     },
     "output_type": "display_data"
    }
   ],
   "source": [
    "lr_params = [float('{:.3f}'.format(i)) for i in lr_params]\n",
    "ridge_params = [float('{:.3f}'.format(i)) for i in ridge_params]\n",
    "lasso_params = [float('{:.3f}'.format(i)) for i in lasso_params]\n",
    "eerm_params = [float('{:.3f}'.format(i)) for i in eerm_params]\n",
    "data = [lr_params[0:8],ridge_params[0:8],lasso_params[0:8],eerm_params[0:8]]\n",
    "\n",
    "columns = ('longitude','latitude','housing_median_age','total_rooms','total_bedrooms','population','households','median_income')\n",
    "rows = ['LR','Ridge','LASSO','EERM']\n",
    "\"\"\"\n",
    "\n",
    "\"\"\"\n",
    "\n",
    "x = np.arange(len(columns))  # the label locations\n",
    "#print(x)\n",
    "#print(lr_params)\n",
    "width = 0.35  # the width of the bars\n",
    "\n",
    "fig, ax = plt.subplots(figsize=(12,3))\n",
    "rects1 = ax.bar(x[0:4] - 0.2, lr_params[0:4], width, label='LR',color='lightblue')\n",
    "rects2 = ax.bar(x[0:4] - 0.05, ridge_params[0:4], width, label='Ridge',color='deepskyblue')\n",
    "rects3 = ax.bar(x[0:4] + 0.05, lasso_params[0:4], width, label='LASSO',color='dodgerblue')\n",
    "rects4 = ax.bar(x[0:4] + 0.2, eerm_params[0:4], width, label='EERM',color='steelblue')\n",
    "\n",
    "\n",
    "\n",
    "# Add some text for labels, title and custom x-axis tick labels, etc.\n",
    "ax.set_ylabel('Values')\n",
    "#ax.set_xticks(x, columns)\n",
    "plt.xticks([])\n",
    "ax.legend()\n",
    "\n",
    "#ax.bar_label(rects1, padding=3)\n",
    "#ax.bar_label(rects2, padding=3)\n",
    "#ax.bar_label(rects3, padding=3)\n",
    "#ax.bar_label(rects4, padding=3)\n",
    "\n",
    "the_table1 = plt.table(cellText=[lr_params[0:4],ridge_params[0:4],lasso_params[0:4],eerm_params[0:4]],\n",
    "                      rowLabels=rows,\n",
    "                      rowColours=['lightblue','deepskyblue','dodgerblue','steelblue'],\n",
    "                      colLabels=columns[0:4],\n",
    "                      loc='bottom')\n",
    "\n",
    "#plt.figure(figsize=(20,5))\n",
    "#plt.subplots_adjust(left=0.5, bottom=0.5)\n",
    "#fig.tight_layout()\n",
    "\n",
    "\n",
    "plt.show()"
   ]
  },
  {
   "cell_type": "code",
   "execution_count": 378,
   "id": "cee34048",
   "metadata": {},
   "outputs": [
    {
     "data": {
      "image/png": "[encoded data removed]",
      "text/plain": [
       "<Figure size 864x216 with 1 Axes>"
      ]
     },
     "metadata": {
      "needs_background": "light"
     },
     "output_type": "display_data"
    }
   ],
   "source": [
    "lr_params = [float('{:.3f}'.format(i)) for i in lr_params]\n",
    "ridge_params = [float('{:.3f}'.format(i)) for i in ridge_params]\n",
    "lasso_params = [float('{:.3f}'.format(i)) for i in lasso_params]\n",
    "eerm_params = [float('{:.3f}'.format(i)) for i in eerm_params]\n",
    "data = [lr_params[0:8],ridge_params[0:8],lasso_params[0:8],eerm_params[0:8]]\n",
    "\n",
    "columns = ('longitude','latitude','housing_median_age','total_rooms','total_bedrooms','population','households','median_income')\n",
    "rows = ['LR','Ridge','LASSO','EERM']\n",
    "\"\"\"\n",
    "\n",
    "\"\"\"\n",
    "\n",
    "x = np.arange(len(columns))  # the label locations\n",
    "#print(x)\n",
    "#print(lr_params)\n",
    "width = 0.35  # the width of the bars\n",
    "\n",
    "fig, ax = plt.subplots(figsize=(12,3))\n",
    "rects5 = ax.bar(x[4:8] - 0.2, lr_params[4:8], width, label='LR',color='lightblue')\n",
    "rects6 = ax.bar(x[4:8] - 0.05, ridge_params[4:8], width, label='Ridge',color='deepskyblue')\n",
    "rects7 = ax.bar(x[4:8] + 0.05, lasso_params[4:8], width, label='LASSO',color='dodgerblue')\n",
    "rects8 = ax.bar(x[4:8] + 0.2, eerm_params[4:8], width, label='EERM',color='steelblue')\n",
    "the_table2 = plt.table(cellText=[lr_params[4:8],ridge_params[4:8],lasso_params[4:8],eerm_params[4:8]],\n",
    "                      rowLabels=rows,\n",
    "                      rowColours=['lightblue','deepskyblue','dodgerblue','steelblue'],\n",
    "                      colLabels=columns[4:8],\n",
    "                      loc='bottom')\n",
    "# Add some text for labels, title and custom x-axis tick labels, etc.\n",
    "ax.set_ylabel('Values')\n",
    "#ax.set_xticks(x, columns)\n",
    "plt.xticks([])\n",
    "#ax.legend()\n",
    "\n",
    "#ax.bar_label(rects1, padding=3)\n",
    "#ax.bar_label(rects2, padding=3)\n",
    "#ax.bar_label(rects3, padding=3)\n",
    "#ax.bar_label(rects4, padding=3)\n",
    "\n",
    "\n",
    "#plt.figure(figsize=(20,5))\n",
    "#plt.subplots_adjust(left=0.5, bottom=0.5)\n",
    "#fig.tight_layout()\n",
    "\n",
    "\n",
    "plt.show()"
   ]
  },
  {
   "cell_type": "code",
   "execution_count": null,
   "id": "410ee15f",
   "metadata": {},
   "outputs": [],
   "source": []
  },
  {
   "cell_type": "code",
   "execution_count": null,
   "id": "d563e644",
   "metadata": {},
   "outputs": [],
   "source": []
  }
 ],
 "metadata": {
  "kernelspec": {
   "display_name": "Python 3 (ipykernel)",
   "language": "python",
   "name": "python3"
  },
  "language_info": {
   "codemirror_mode": {
    "name": "ipython",
    "version": 3
   },
   "file_extension": ".py",
   "mimetype": "text/x-python",
   "name": "python",
   "nbconvert_exporter": "python",
   "pygments_lexer": "ipython3",
   "version": "3.9.6"
  }
 },
 "nbformat": 4,
 "nbformat_minor": 5
}
